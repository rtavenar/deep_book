{
 "cells": [
  {
   "cell_type": "markdown",
   "id": "55007a66",
   "metadata": {},
   "source": [
    "(sec:sgd)=\n",
    "# Optimization\n",
    "\n",
    "In this chapter, we will present an optimization strategy called **Gradient\n",
    "Descent** and its variants, and show how they can be used to optimize neural network parameters.\n",
    "\n",
    "## SGD\n",
    "\n",
    "## Variants of SGD (towards Adam)\n",
    "\n",
    "## The curse of depth"
   ]
  }
 ],
 "metadata": {
  "jupytext": {
   "cell_metadata_filter": "-all",
   "formats": "md:myst",
   "text_representation": {
    "extension": ".md",
    "format_name": "myst",
    "format_version": 0.12,
    "jupytext_version": "1.9.1"
   }
  },
  "kernelspec": {
   "display_name": "Python 3",
   "language": "python",
   "name": "python3"
  },
  "language_info": {
   "codemirror_mode": {
    "name": "ipython",
    "version": 3
   },
   "file_extension": ".py",
   "mimetype": "text/x-python",
   "name": "python",
   "nbconvert_exporter": "python",
   "pygments_lexer": "ipython3",
   "version": "3.9.13"
  },
  "source_map": [
   14
  ]
 },
 "nbformat": 4,
 "nbformat_minor": 5
}